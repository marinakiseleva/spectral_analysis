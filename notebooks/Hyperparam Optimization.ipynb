{
 "cells": [
  {
   "cell_type": "markdown",
   "id": "d64db2ed",
   "metadata": {},
   "source": [
    "Determining MAX_SAD for Segmentation Model (based on synthetic noise level)\n"
   ]
  },
  {
   "cell_type": "code",
   "execution_count": null,
   "id": "44c40e30",
   "metadata": {},
   "outputs": [],
   "source": [
    "\n",
    "testing_regions = [\"b\", \"l\", \"o\", \"i\", \"p\"]\n",
    "m_type_map = { 0:\"b\", 1:\"l\", 2 :\"o\", 3 :\"i\", 4:\"p\"}\n",
    "region_ms = {\"b\": [0.3, 0.2,.1,0.4],\n",
    "                \"l\": [0.7, 0, 0.3,0],\n",
    "                \"o\": [0, 0.6,0.4,0],\n",
    "                \"i\": [0.8, 0.2, 0, 0],\n",
    "                \"p\": [0.3, 0, 0, 0.7]}\n",
    "region_Ds = {\"b\": [200, 300, 100, 200],\n",
    "                \"l\": [200, 300, 100, 200],\n",
    "                \"o\": [200, 300, 100, 200],\n",
    "                \"i\": [200, 300, 100, 200],\n",
    "                \"p\": [200, 300, 100, 200]}\n",
    "\n",
    "#  finding max sad\n",
    "# If their SAD is <MAX_SAD we merge them. \n",
    "# Comes from manually examining pure data spectra vs. derived Hapke model spectra where dominant mineral is 80%. \n",
    "#\n",
    "from model.segmentation import get_SAD\n",
    "\n",
    "m_map = {}\n",
    "D_map = {}\n",
    "ttype='b'\n",
    "for index, endmember in enumerate(USGS_PURE_ENDMEMBERS):\n",
    "    m_map[endmember] = region_ms[ttype][index]\n",
    "    D_map[endmember] = region_Ds[ttype][index]\n",
    "r = get_USGS_r_mixed_hapke_estimate(m_map, D_map)\n",
    "    \n",
    "with open(R_DIR + \"../wavelengths.pickle\", 'rb') as handle:\n",
    "    wavelengths = pickle.load(handle)\n",
    "\n",
    "NOISE_AMOUNT=0\n",
    "sads=[]\n",
    "for t in range(50):\n",
    "    noise = np.random.normal(loc=0, \n",
    "                             scale=NOISE_AMOUNT, \n",
    "                             size=len(wavelengths)) \n",
    "\n",
    "    noisy_r = r + noise\n",
    "    for i, v in enumerate(noisy_r):\n",
    "        if v <= 0:\n",
    "            noisy_r[i]=0\n",
    "\n",
    "    s=get_SAD(a=r, b=noisy_r)\n",
    "    sads.append(s)\n",
    "avg_SAD = np.mean(s)\n",
    "print(\"Average SAD between pure and noisy R for ttype \" + str(ttype) + \n",
    "      \" with noise = \" + str(NOISE_AMOUNT) + \" is = \" + str(round(avg_SAD,9)))\n",
    "# print(\"we merge when target SAD < MAX_SAD, so wouldthis pass? \" + str(avg_SAD<MAX_SAD))\n",
    "\n",
    "fig, ax = plt.subplots(figsize=(6, 5), dpi=400)\n",
    "ax.plot(wavelengths, r, color=\"blue\", label=\"Orig\")\n",
    "ax.plot(wavelengths, noisy_r, color=\"red\", label=\"Noisy\")\n",
    "ax.set_ylabel(\"Reflectance\")\n",
    "ax.set_xlabel(\"Wavelength\")\n",
    "ax.set_ylim((0, 1))\n",
    "ax.set_xlim((min(wavelengths), max(wavelengths)))\n",
    "plt.legend(loc='best', fontsize=12)\n",
    "plt.show()\n",
    "\n"
   ]
  }
 ],
 "metadata": {
  "kernelspec": {
   "display_name": "spec_368",
   "language": "python",
   "name": "spec_368"
  },
  "language_info": {
   "codemirror_mode": {
    "name": "ipython",
    "version": 3
   },
   "file_extension": ".py",
   "mimetype": "text/x-python",
   "name": "python",
   "nbconvert_exporter": "python",
   "pygments_lexer": "ipython3",
   "version": "3.6.8"
  }
 },
 "nbformat": 4,
 "nbformat_minor": 5
}
