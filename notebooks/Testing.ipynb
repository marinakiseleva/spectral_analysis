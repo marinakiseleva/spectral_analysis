{
 "cells": [
  {
   "cell_type": "code",
   "execution_count": null,
   "metadata": {},
   "outputs": [],
   "source": [
    "from hapke_model import get_w_mixed_hapke_estimate\n",
    "from constants import *\n",
    "from access_data import *\n",
    "\n",
    "\n",
    "import numpy as np\n"
   ]
  },
  {
   "cell_type": "code",
   "execution_count": null,
   "metadata": {},
   "outputs": [],
   "source": [
    "m_map = {pure_olivine_sid : .05,\n",
    "         pure_enstatite_sid: .9,\n",
    "         pure_anorthite_sid: .05}\n",
    "D_map = {pure_olivine_sid : 25,\n",
    "         pure_enstatite_sid: 30,\n",
    "         pure_anorthite_sid: 25}\n",
    "\n",
    "get_w_mixed_hapke_estimate(m_map, D_map)"
   ]
  },
  {
   "cell_type": "code",
   "execution_count": null,
   "metadata": {},
   "outputs": [],
   "source": []
  },
  {
   "cell_type": "code",
   "execution_count": null,
   "metadata": {},
   "outputs": [],
   "source": []
  }
 ],
 "metadata": {
  "kernelspec": {
   "display_name": "spec_env",
   "language": "python",
   "name": "spec_env"
  },
  "language_info": {
   "codemirror_mode": {
    "name": "ipython",
    "version": 3
   },
   "file_extension": ".py",
   "mimetype": "text/x-python",
   "name": "python",
   "nbconvert_exporter": "python",
   "pygments_lexer": "ipython3",
   "version": "3.7.5"
  }
 },
 "nbformat": 4,
 "nbformat_minor": 2
}
