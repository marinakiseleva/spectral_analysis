{
 "cells": [
  {
   "cell_type": "markdown",
   "metadata": {},
   "source": [
    "## CRISM Image Preprocessing\n",
    "\t1. Download data and preprocess in CAT ENVI: Convert PDS to CAT (rotate data 180 degrees). \n",
    "    2. Layer \"l\" and \"s\" image files using record_layered_data function (which also gets rid of NULL values); and save as Pickle.\n",
    "\t3.  Reduce wavelengths to match CRISM & USGS. \n",
    "    4. Recalculate k-values (if wavelengths have changed from previous)\n"
   ]
  },
  {
   "cell_type": "code",
   "execution_count": null,
   "metadata": {},
   "outputs": [],
   "source": [
    "from preprocessing.CRISM_preprocess_helpers import *\n",
    "from utils.plotting import *\n",
    "from utils.constants import *\n",
    "import pandas as pd\n",
    "\n",
    "from numpy import genfromtxt\n"
   ]
  },
  {
   "cell_type": "markdown",
   "metadata": {},
   "source": [
    "1. Download from Data Explorer, import into CAT ENVI, rotate 180 degrees, save as standard CAT ENVI, save the z profiles of a pixel on each image. Layer l and s using record_layered_data.\n"
   ]
  },
  {
   "cell_type": "markdown",
   "metadata": {},
   "source": [
    "2. Save total set of wavelengths as single .pickle (from s and l pixel wavelengths)\n"
   ]
  },
  {
   "cell_type": "code",
   "execution_count": null,
   "metadata": {},
   "outputs": [],
   "source": [
    "# CRISM_DIR = PREPROCESSED_DATA + \"CRISM/frt00010628_07/\"\n",
    "CRISM_DIR = PREPROCESSED_DATA + \"CRISM/frs0002edd6_01/\""
   ]
  },
  {
   "cell_type": "code",
   "execution_count": null,
   "metadata": {},
   "outputs": [],
   "source": [
    "lW = genfromtxt(CRISM_DIR + 'lpixel.csv', delimiter=',', skip_header=1)\n",
    "sW = genfromtxt(CRISM_DIR + 'spixel.csv', delimiter=',', skip_header=1)\n",
    "\n",
    "# Combine short and long\n",
    "W = np.concatenate((sW, lW))\n",
    "\n",
    "with open(CRISM_DIR + \"wavelengths.pickle\", 'wb') as F:\n",
    "    pickle.dump(W, F)"
   ]
  },
  {
   "cell_type": "markdown",
   "metadata": {},
   "source": [
    "3. Reduced wavelengths: RW_CRISM and RW_USGS.\n",
    "Meaning: CRISM data has a certain wavelengths, and USGS has different ones. So, we need to find the mutually compatible set. This is what reducing wavelengths is.\n"
   ]
  },
  {
   "cell_type": "code",
   "execution_count": null,
   "metadata": {},
   "outputs": [],
   "source": [
    "CRISM_reduced, USGS_reduced = record_CRISM_USGS_reduced_wavelengths(CRISM_img_dir = \"frt00010628_07\")\n"
   ]
  },
  {
   "cell_type": "markdown",
   "metadata": {},
   "source": [
    "4. Recalculate k-values\n",
    "Usually we run this on the server/HPC because it takes a while (and can use many threads to infer k in different wavelengths at the same time)."
   ]
  },
  {
   "cell_type": "code",
   "execution_count": null,
   "metadata": {},
   "outputs": [],
   "source": [
    "from preprocessing.estimatek import estimate_all_USGS_k\n",
    "# True means to match CRISM wavelengths\n",
    "estimate_all_USGS_k(True)"
   ]
  },
  {
   "cell_type": "markdown",
   "metadata": {},
   "source": [
    "5. [OPTIONAL] Save PDF of image"
   ]
  },
  {
   "cell_type": "code",
   "execution_count": null,
   "metadata": {},
   "outputs": [],
   "source": [
    "CRISM_DIR = PREPROCESSED_DATA + \"CRISM/frt00010628_07/\"\n",
    "\n",
    "CUR_IMG_NAME = \"frt00010628_07_if165_LAYERED.pickle\"\n",
    "with open(CRISM_DIR + CUR_IMG_NAME, 'rb') as handle:\n",
    "    img = pickle.load(handle)\n",
    "plot_CRISM_img(img, CRISM_DIR+\"frt00010628.pdf\")"
   ]
  },
  {
   "cell_type": "markdown",
   "metadata": {},
   "source": [
    "\n",
    "6. [OPTIONAL] Identify subsection of image to use for testing\n",
    "Save as Pickle and as PDF for viewing."
   ]
  },
  {
   "cell_type": "code",
   "execution_count": null,
   "metadata": {},
   "outputs": [],
   "source": [
    "CUR_IMG_NAME = \"frt00010628_07_if165_LAYERED.pickle\"\n",
    "with open(CRISM_DIR + CUR_IMG_NAME, 'rb') as handle:\n",
    "    loaded_img = pickle.load(handle)\n",
    "view = imshow(loaded_img, bands= (200, 71, 18), title=\"Layered frt00010628 I/F\")"
   ]
  },
  {
   "cell_type": "code",
   "execution_count": null,
   "metadata": {},
   "outputs": [],
   "source": [
    "\n",
    "# rows\n",
    "rowstart = 40\n",
    "rowend = 60\n",
    "\n",
    "#  cols\n",
    "colstart = 80\n",
    "colend = 100\n",
    "\n",
    "coords = [ colstart, colend, rowstart, rowend]\n",
    "\n",
    "# For plotting below, X corresponds to columns\n",
    "\n",
    "plot_zoomed_sectioned_CRISM(loaded_img, coords, CRISM_DIR+\"Section-frt00010628.pdf\")\n",
    "\n",
    "SUBIMG = loaded_img[rowstart:rowend,colstart:colend, :]\n",
    "view = imshow(SUBIMG, \n",
    "              bands= (100, 71, 18), \n",
    "              title=\"Section frt00010628 I/F\")"
   ]
  },
  {
   "cell_type": "code",
   "execution_count": null,
   "metadata": {},
   "outputs": [],
   "source": [
    "# Save called-out section.\n",
    "with open(CRISM_DIR + \"frt00010628_subsection.pickle\", 'wb') as F:\n",
    "    pickle.dump(SUBIMG, F)"
   ]
  },
  {
   "cell_type": "code",
   "execution_count": null,
   "metadata": {},
   "outputs": [],
   "source": [
    "plot_CRISM_img(SUBIMG, CRISM_DIR+\"frt00010628_subsection.pdf\")"
   ]
  },
  {
   "cell_type": "code",
   "execution_count": null,
   "metadata": {},
   "outputs": [],
   "source": []
  },
  {
   "cell_type": "code",
   "execution_count": null,
   "metadata": {},
   "outputs": [],
   "source": []
  },
  {
   "cell_type": "markdown",
   "metadata": {},
   "source": [
    "## Testing get_CRISM_data make sure it reduces wavelengths correctly"
   ]
  },
  {
   "cell_type": "code",
   "execution_count": null,
   "metadata": {},
   "outputs": [],
   "source": [
    "from utils.access_data import *\n",
    "CRISM_DIR = PREPROCESSED_DATA + \"CRISM/frt00010628_07/\"\n",
    "\n",
    "img = get_CRISM_data(file_name=CRISM_DIR+\"frt00010628_07_if165_LAYERED.pickle\", \n",
    "               img_dir=CRISM_DIR)\n",
    "print(\"Image shape \" + str(img.shape))"
   ]
  },
  {
   "cell_type": "code",
   "execution_count": null,
   "metadata": {},
   "outputs": [],
   "source": [
    "w=get_CRISM_wavelengths(\"frt00010628_07\", CRISM_match=False)\n",
    "len(w)"
   ]
  },
  {
   "cell_type": "code",
   "execution_count": null,
   "metadata": {},
   "outputs": [],
   "source": [
    "\n",
    "file_name=CRISM_DIR+\"frt00010628.pickle\"\n",
    "img_dir=CRISM_DIR\n",
    "with open(file_name, 'rb') as handle:\n",
    "    loaded_img = pickle.load(handle)\n",
    "\n"
   ]
  },
  {
   "cell_type": "code",
   "execution_count": null,
   "metadata": {},
   "outputs": [],
   "source": [
    "loaded_img.shape"
   ]
  },
  {
   "cell_type": "code",
   "execution_count": null,
   "metadata": {},
   "outputs": [],
   "source": [
    "full_w = get_CRISM_wavelengths(\"frt00010628_07\", CRISM_match=False)\n",
    "len(full_w)"
   ]
  },
  {
   "cell_type": "code",
   "execution_count": null,
   "metadata": {},
   "outputs": [],
   "source": [
    "frsDIR =  PREPROCESSED_DATA + \"CRISM/frs0002edd6_01/\"\n",
    "file_name=frsDIR+\"frs0002edd6_LAYERED.pickle\"\n",
    "img_dir=frsDIR\n",
    "with open(file_name, 'rb') as handle:\n",
    "    loaded_img = pickle.load(handle)\n",
    "print(loaded_img.shape)\n",
    "full_w = get_CRISM_wavelengths(\"frs0002edd6_01\", CRISM_match=False)\n",
    "print(len(full_w))"
   ]
  },
  {
   "cell_type": "code",
   "execution_count": null,
   "metadata": {},
   "outputs": [],
   "source": [
    "orig_wavelengths = get_CRISM_wavelengths(img_dir, True)\n",
    "matched_wavelengths = get_CRISM_RWs()\n",
    "\n",
    "indices = np.argwhere(np.isin(orig_wavelengths, matched_wavelengths)).flatten()\n",
    "return np.take(loaded_img, indices, axis=2)"
   ]
  }
 ],
 "metadata": {
  "kernelspec": {
   "display_name": "spec_368",
   "language": "python",
   "name": "spec_368"
  },
  "language_info": {
   "codemirror_mode": {
    "name": "ipython",
    "version": 3
   },
   "file_extension": ".py",
   "mimetype": "text/x-python",
   "name": "python",
   "nbconvert_exporter": "python",
   "pygments_lexer": "ipython3",
   "version": "3.6.8"
  }
 },
 "nbformat": 4,
 "nbformat_minor": 4
}
