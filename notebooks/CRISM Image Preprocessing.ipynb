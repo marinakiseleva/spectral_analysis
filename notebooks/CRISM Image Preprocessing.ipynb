{
 "cells": [
  {
   "cell_type": "markdown",
   "metadata": {},
   "source": [
    "## CRISM Image Preprocessing [ and dependencies]"
   ]
  },
  {
   "attachments": {},
   "cell_type": "markdown",
   "metadata": {},
   "source": [
    "1. Download lab spectra AND preprocess using USGS_preprocessing_helpers \n",
    "- for Mars/CRISM testing: Have lab_spectra/USGS (as currently available)\n",
    "- for Moon/M3 testing: Have lab_spectra/RELAB"
   ]
  },
  {
   "cell_type": "code",
   "execution_count": null,
   "metadata": {},
   "outputs": [],
   "source": [
    "from USGS_preprocessing_helpers import preprocess_USGS\n",
    "preprocess_USGS()"
   ]
  },
  {
   "attachments": {},
   "cell_type": "markdown",
   "metadata": {},
   "source": [
    "2. Download planetary data. For CRISM, download from Mars Orbital Data Explorer, Filter on \"Targeted TRDR (FRT, HRL, HRS FRS, ATO, ATU)  (center swath only I/F )\". Filter to desired region using Map Search, then download.\n",
    "- Do all preprocessing below for Mars data\n",
    "\n",
    "\t1. Open as CRISM files in CAT ENVI. \n",
    "\t\t- ENVI Classic > Cat 7.4 > Open CRISM File > \n",
    "\t\t\ti. …_07_if165l_trr3.img\n",
    "\t\t\tii. …_07_if165s_trr3.img\n",
    "\t2. Rotate 180 degrees. Save as ENVI standard. This will match its appearance on Mars Orbital Data Explorer (so I can relate it to the original map)\n",
    "\t\t- ENVI Classic > Basic Tools > Rotate/Flip Data\n",
    "\t\t- Save as l_rotated.img or s_rotated.img\n",
    "        \n",
    "\t3. Save pixel wavelengths in rotated file. (s_pixel, l_pixel) (Note: HAVE TO save pixel wavelengths after rotation, because rotation changes bands. Originally in one image there are 438 and after rotation there are 434.\n",
    "\t\t- Tools > Profiles > Z Profile (Spectrum ) \n",
    "\t\t- File > Save Plot As > ASCII \n",
    "        - Open ASCII in Excel to clean it up, so we only save wavelengths as one column. Save as lpixel.csv or spixel.csv \n"
   ]
  },
  {
   "cell_type": "markdown",
   "metadata": {},
   "source": [
    "3. Specify CRISM image"
   ]
  },
  {
   "cell_type": "code",
   "execution_count": null,
   "metadata": {},
   "outputs": [],
   "source": [
    "############## SPECIFY CRISM IMAGE HERE ##############\n",
    "from utils.constants import *\n",
    "\n",
    "CUR_IMG = \"frt00010628_07\"\n",
    "\n",
    "CRISM_DIR = PREPROCESSED_DATA + \"CRISM/\" + CUR_IMG + \"/\"\n",
    "# CRISM_DIR = PREPROCESSED_DATA + \"CRISM/frs0002edd6_01/\"\n",
    "\n",
    "#######################################################"
   ]
  },
  {
   "cell_type": "markdown",
   "metadata": {},
   "source": [
    "4. Layer s and l images into single CRISM image file (and save as Pickle). And replace all NULL values with 0."
   ]
  },
  {
   "cell_type": "code",
   "execution_count": null,
   "metadata": {},
   "outputs": [],
   "source": [
    "import pandas as pd\n",
    "import numpy as np\n",
    "from preprocessing.CRISM_preprocess_helpers import *\n",
    "from utils.plotting import *\n",
    "\n",
    "record_layered_data(img_dir=CRISM_DIR, img_save_name=CUR_IMG+\"_LAYERED\")\n"
   ]
  },
  {
   "cell_type": "markdown",
   "metadata": {},
   "source": [
    "5. Reduced wavelengths: RW_CRISM and RW_USGS.\n",
    "CRISM data has a certain wavelengths, and USGS has different ones. So, we need to find the mutually compatible set. This is what reducing wavelengths is.\n",
    "\n",
    "When running the model, it will use these reduced wavelengths for the CRISM data and USGS endmembers. Saved in PREPROCESSED_DATA/CRISM\n"
   ]
  },
  {
   "cell_type": "code",
   "execution_count": null,
   "metadata": {},
   "outputs": [],
   "source": [
    "CRISM_reduced, USGS_reduced = record_CRISM_USGS_reduced_wavelengths(CRISM_img_dir = CUR_IMG)\n"
   ]
  },
  {
   "cell_type": "markdown",
   "metadata": {},
   "source": [
    "7. Calculate optical constants, k, for each endmember (in each wavelength) \n",
    "\n",
    "Usually we run this on the server/HPC because it takes a while (and can use many threads to infer k in different wavelengths at the same time)."
   ]
  },
  {
   "cell_type": "code",
   "execution_count": null,
   "metadata": {},
   "outputs": [],
   "source": [
    "from preprocessing.estimatek import estimate_all_USGS_k\n",
    "# True means to match CRISM wavelengths\n",
    "estimate_all_USGS_k(True)"
   ]
  },
  {
   "cell_type": "markdown",
   "metadata": {},
   "source": [
    "8. [OPTIONAL] Save PDF of image"
   ]
  },
  {
   "cell_type": "code",
   "execution_count": null,
   "metadata": {},
   "outputs": [],
   "source": [
    "with open(CRISM_DIR + CUR_IMG + \"_LAYERED.pickle\", 'rb') as handle:\n",
    "    img = pickle.load(handle)\n",
    "plot_CRISM_img(img, CRISM_DIR + \"frt00010628.pdf\")"
   ]
  },
  {
   "cell_type": "markdown",
   "metadata": {},
   "source": [
    "\n",
    "9. [OPTIONAL] Identify subsection of image to use for testing\n",
    "Save as Pickle and as PDF for viewing."
   ]
  },
  {
   "cell_type": "code",
   "execution_count": null,
   "metadata": {},
   "outputs": [],
   "source": [
    "\n",
    "# rows\n",
    "rowstart = 40\n",
    "rowend = 60\n",
    "\n",
    "#  cols\n",
    "colstart = 80\n",
    "colend = 100\n",
    "\n",
    "coords = [ colstart, colend, rowstart, rowend]\n",
    "\n",
    "# For plotting below, X corresponds to columns\n",
    "\n",
    "plot_zoomed_sectioned_CRISM(img, coords, CRISM_DIR+\"subsection.pdf\")\n",
    "\n",
    "SUBIMG = img[rowstart:rowend,colstart:colend, :]\n",
    "view = imshow(SUBIMG,  bands= (100, 71, 18), title=\"Section I/F\")"
   ]
  },
  {
   "cell_type": "code",
   "execution_count": null,
   "metadata": {},
   "outputs": [],
   "source": [
    "# Save called-out section.\n",
    "with open(CRISM_DIR + \"subsection.pickle\", 'wb') as F:\n",
    "    pickle.dump(SUBIMG, F)"
   ]
  }
 ],
 "metadata": {
  "kernelspec": {
   "display_name": "spec_env",
   "language": "python",
   "name": "spec_env"
  },
  "language_info": {
   "codemirror_mode": {
    "name": "ipython",
    "version": 3
   },
   "file_extension": ".py",
   "mimetype": "text/x-python",
   "name": "python",
   "nbconvert_exporter": "python",
   "pygments_lexer": "ipython3",
   "version": "3.9.1"
  }
 },
 "nbformat": 4,
 "nbformat_minor": 4
}
