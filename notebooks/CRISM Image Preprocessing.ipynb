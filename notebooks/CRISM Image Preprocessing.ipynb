{
 "cells": [
  {
   "cell_type": "markdown",
   "metadata": {},
   "source": [
    "## CRISM Image Preprocessing\n",
    "\t1. Download data and preprocess in CAT ENVI: Convert PDS to CAT (rotate data 180 degrees). \n",
    "    2. Layer \"l\" and \"s\" image files using record_layered_data function (which also gets rid of NULL values); and save as Pickle.\n",
    "\t3.  Reduce wavelengths to match CRISM & USGS. \n",
    "    4. Recalculate k-values (if wavelengths have changed from previous)\n"
   ]
  },
  {
   "cell_type": "code",
   "execution_count": 1,
   "metadata": {},
   "outputs": [],
   "source": [
    "from preprocessing.CRISM_preprocess_helpers import *\n",
    "from utils.plotting import *\n",
    "from utils.constants import *\n",
    "import pandas as pd\n",
    "\n",
    "from numpy import genfromtxt\n"
   ]
  },
  {
   "cell_type": "markdown",
   "metadata": {},
   "source": [
    "1. Download from Data Explorer, import into CAT ENVI, rotate 180 degrees, save as standard CAT ENVI, save the z profiles of a pixel on each image. Layer l and s using record_layered_data.\n"
   ]
  },
  {
   "cell_type": "markdown",
   "metadata": {},
   "source": [
    "2. Save total set of wavelengths as single .pickle (from s and l pixel wavelengths)\n"
   ]
  },
  {
   "cell_type": "code",
   "execution_count": 19,
   "metadata": {},
   "outputs": [],
   "source": [
    "CRISM_DIR = PREPROCESSED_DATA + \"CRISM/frt00010628_07/\"\n",
    "\n",
    "lW = genfromtxt(CRISM_DIR + 'lpixel.csv', delimiter=',', skip_header=1)\n",
    "sW = genfromtxt(CRISM_DIR + 'spixel.csv', delimiter=',', skip_header=1)\n",
    "\n",
    "# Combine short and long\n",
    "W = np.concatenate((sW, lW))\n",
    "\n",
    "with open(CRISM_DIR + \"wavelengths.pickle\", 'wb') as F:\n",
    "    pickle.dump(W, F)"
   ]
  },
  {
   "cell_type": "markdown",
   "metadata": {},
   "source": [
    "Reduced wavelengths: RW_CRISM and RW_USGS\n"
   ]
  },
  {
   "cell_type": "code",
   "execution_count": 2,
   "metadata": {},
   "outputs": [
    {
     "name": "stdout",
     "output_type": "stream",
     "text": [
      "CRISM reduced from 516 to 239\n",
      "USGS reduced from 461 to 239\n",
      "RMSE between normalized wavelength vectors: 0.001139724738334286\n"
     ]
    }
   ],
   "source": [
    "CRISM_reduced, USGS_reduced = record_CRISM_USGS_reduced_wavelengths(CRISM_img_dir = \"frt00010628_07\")\n"
   ]
  },
  {
   "cell_type": "markdown",
   "metadata": {},
   "source": [
    "Recalculate k-values"
   ]
  },
  {
   "cell_type": "code",
   "execution_count": null,
   "metadata": {},
   "outputs": [],
   "source": [
    "from preprocessing.estimatek import estimate_all_USGS_k\n",
    "estimate_all_USGS_k()"
   ]
  },
  {
   "cell_type": "markdown",
   "metadata": {},
   "source": [
    "### Optional\n",
    "Identify subsection of image to use for testing"
   ]
  },
  {
   "cell_type": "code",
   "execution_count": null,
   "metadata": {},
   "outputs": [],
   "source": [
    "\n",
    "img =  USE_DIR + CUR_IMG_NAME + \".pickle\"\n",
    "with open(img, 'rb') as handle:\n",
    "    loaded_img = pickle.load(handle)\n",
    "view = imshow(loaded_img, bands= (200, 71, 18), title=\"Layered \" + CUR_IMG_NAME)"
   ]
  },
  {
   "cell_type": "code",
   "execution_count": null,
   "metadata": {},
   "outputs": [],
   "source": [
    "\n",
    "xstart = 90\n",
    "xend = 105\n",
    "ystart = 45\n",
    "yend = 60\n",
    "\n",
    "coords = [xstart, xend, ystart, yend]\n",
    "\n",
    "# For plotting below, X corresponds to columns\n",
    "\n",
    "plot_zoomed_sectioned_CRISM(loaded_img, coords, \"gobabeb\")\n",
    "\n",
    "# Save called-out section.\n",
    "with open(USE_DIR + \"gobabeb.pickle\", 'wb') as f:\n",
    "    pickle.dump(loaded_img[xstart:xend,ystart:yend,:], f)"
   ]
  },
  {
   "cell_type": "code",
   "execution_count": null,
   "metadata": {},
   "outputs": [],
   "source": []
  },
  {
   "cell_type": "code",
   "execution_count": null,
   "metadata": {},
   "outputs": [],
   "source": []
  },
  {
   "cell_type": "code",
   "execution_count": null,
   "metadata": {},
   "outputs": [],
   "source": [
    "with open(USE_DIR + \"img_subsection.pickle\", 'rb') as handle:\n",
    "    small_img = pickle.load(handle)\n",
    "    \n",
    "coords = [1, 75, 1, 95]\n",
    "\n",
    "# plot_zoomed_sectioned_CRISM(small_img, coords, \"particularROI\")\n",
    "plot_CRISM_img(small_img, \"ROI\")"
   ]
  },
  {
   "cell_type": "code",
   "execution_count": null,
   "metadata": {},
   "outputs": [],
   "source": []
  }
 ],
 "metadata": {
  "kernelspec": {
   "display_name": "spec_368",
   "language": "python",
   "name": "spec_368"
  },
  "language_info": {
   "codemirror_mode": {
    "name": "ipython",
    "version": 3
   },
   "file_extension": ".py",
   "mimetype": "text/x-python",
   "name": "python",
   "nbconvert_exporter": "python",
   "pygments_lexer": "ipython3",
   "version": "3.6.8"
  }
 },
 "nbformat": 4,
 "nbformat_minor": 4
}
