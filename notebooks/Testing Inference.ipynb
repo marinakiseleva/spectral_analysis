{
 "cells": [
  {
   "cell_type": "code",
   "execution_count": null,
   "metadata": {},
   "outputs": [],
   "source": [
    "import math\n",
    "import matplotlib.pyplot as plt\n",
    "import numpy as np\n",
    "\n",
    "from model.inference import *\n",
    "from model.hapke_model import get_USGS_r_mixed_hapke_estimate\n",
    "from utils.access_data import *\n",
    "from utils.constants import *\n",
    "\n",
    "np.set_printoptions(precision=2)\n",
    "np.set_printoptions(suppress=True)"
   ]
  },
  {
   "cell_type": "code",
   "execution_count": null,
   "metadata": {},
   "outputs": [],
   "source": [
    "IMG_DIR = DATA_DIR + 'GALE_CRATER/cartOrder/cartorder/'\n",
    "image_file = IMG_DIR + 'layered_img_sec_100_150.pickle'\n",
    "wavelengths_file = IMG_DIR + 'layered_wavelengths.pickle'\n",
    "\n",
    "# Normalize spectra across RELAB, USGS, and CRISM per each CRISM image\n",
    "# (since different CRISM images have different wavelengths)\n",
    "record_reduced_spectra(wavelengths_file)\n",
    "\n",
    "image = get_CRISM_data(image_file, wavelengths_file, CRISM_match=True)\n",
    "print(\"CRISM image size \" + str(image.shape))"
   ]
  },
  {
   "cell_type": "markdown",
   "metadata": {},
   "source": [
    "## Testing\n",
    "plot spectra of random pixels from image. frt0002037a_07_if165l_trr3_CAT"
   ]
  },
  {
   "cell_type": "code",
   "execution_count": null,
   "metadata": {},
   "outputs": [],
   "source": [
    "# load \"l\" image, reset all NULLs to 0 \n",
    "CRISM_DATA_PATH = DATA_DIR + 'GALE_CRATER_TEST_2/'\n",
    "CRISM_IMG = CRISM_DATA_PATH + 'frt0000c0ef_07_if165l_trr3_CAT.img'\n",
    "spy_image = envi.open(file=CRISM_IMG + '.hdr')\n",
    "\n",
    "\n",
    "image_arr = spy_image[:,:,:]\n",
    "img= np.where(image_arr[:,:,:] == 65535, 0, image_arr) \n",
    "# S_IMG_WAVELENGTHS = CRISM_DATA_PATH + 'l_pixel_x_201_y_200.csv'\n",
    "wavelengths = get_CRISM_wavelengths(CRISM_DATA_PATH + 'pixel_x_262_y_136.csv')\n",
    "\n",
    "\n",
    "\n",
    "print(len(wavelengths))\n",
    "print(img.shape)\n",
    "\n",
    "bands = (300, 200, 50)\n",
    "from spectral import imshow\n",
    "imshow(data=img, bands=bands)"
   ]
  },
  {
   "cell_type": "code",
   "execution_count": null,
   "metadata": {},
   "outputs": [],
   "source": [
    "#  height = 450\n",
    "#  width = 640"
   ]
  },
  {
   "cell_type": "code",
   "execution_count": null,
   "metadata": {},
   "outputs": [],
   "source": [
    "from spectral import imshow\n",
    "\n",
    "def plot_cutout_spectra(img, wavelengths, sec_width, sec_height, xstart, ystart, bands):\n",
    "    \"\"\"\n",
    "    Visualize subsection of image and corresponding spectra to see variance\n",
    "    :param sec_width: number of columns to include\n",
    "    :param sec_height: number of rows to include\n",
    "    :param xstart: column to start at (where 0 is left most column)\n",
    "    :param ystart: row to start at (where 0 is top row)\n",
    "    \"\"\"\n",
    "    fig, ax = plt.subplots(2, 1, constrained_layout=True,  dpi=300 ) # figsize=(4, 2), dpi=DPI\n",
    "    \n",
    "    height, width, num_wavelengths = img.shape\n",
    "    \n",
    "    avg_spectra = np.zeros(num_wavelengths)\n",
    "    num_pixels = sec_width*sec_height\n",
    "     \n",
    "    for i in range(sec_height):\n",
    "        for j in range(sec_width): \n",
    "                            # img [ height, width ]\n",
    "            pixel_spectra = img[i+ystart,j+xstart]\n",
    "            ax[0].plot(wavelengths, pixel_spectra, linewidth=0.5)\n",
    "            avg_spectra += pixel_spectra \n",
    "            \n",
    "             \n",
    "    avg_spectra = avg_spectra/num_pixels\n",
    "    ax[0].plot(wavelengths, avg_spectra, linewidth=1.0, color='red')\n",
    "    \n",
    "    ax[0].set_xlabel(\"Wavelength\")\n",
    "    ax[0].set_ylabel(\"Reflectance\")\n",
    "    ax[0].set_title(\"Spectra\")\n",
    "    ax[0].set_ylim((0, 1))\n",
    "\n",
    "    for i in range(sec_height):\n",
    "        for j in range(sec_width): \n",
    "            pixel_spectra = img[i+ystart,j+xstart] \n",
    "            ax[1].plot(wavelengths, pixel_spectra-avg_spectra)\n",
    "    ax[1].set_title(\"Normalied Spectra (avg subtracted)\")\n",
    "    ax[1].set_xlabel(\"Wavelength\")\n",
    "    ax[1].set_ylabel(\"reflectance - avg\")\n",
    "    ax[1].set_ylim((0,.5))\n",
    "    \n",
    "    plt.show()\n",
    "    \n",
    "    \n",
    "     \n",
    "    view = imshow(data=img[xstart:(xstart+sec_height),ystart:(ystart+sec_width),:], bands=bands)\n",
    "    return avg_spectra/num_pixels\n",
    "\n",
    "    \n",
    "\n",
    "bands = (300, 200, 50)\n",
    "avg_spectra=plot_cutout_spectra(img=img,\n",
    "                    wavelengths=wavelengths,\n",
    "                    sec_width = 600,\n",
    "                    sec_height = 400,\n",
    "                    xstart = 20,\n",
    "                    ystart = 20,\n",
    "                    bands=bands)\n"
   ]
  },
  {
   "cell_type": "code",
   "execution_count": null,
   "metadata": {},
   "outputs": [],
   "source": []
  },
  {
   "cell_type": "code",
   "execution_count": null,
   "metadata": {},
   "outputs": [],
   "source": []
  },
  {
   "cell_type": "markdown",
   "metadata": {},
   "source": [
    "## PT sampler testing"
   ]
  },
  {
   "cell_type": "code",
   "execution_count": null,
   "metadata": {},
   "outputs": [],
   "source": [
    "from emcee import PTSampler\n",
    "\n",
    "# mu1 = [1, 1], mu2 = [-1, -1]\n",
    "mu1 = np.ones(2)\n",
    "mu2 = -np.ones(2)\n",
    "\n",
    "# Width of 0.1 in each dimension\n",
    "sigma1inv = np.diag([100.0, 100.0])\n",
    "sigma2inv = np.diag([100.0, 100.0])\n",
    "\n",
    "def logl(x):\n",
    "    dx1 = x - mu1\n",
    "    dx2 = x - mu2\n",
    "\n",
    "    return np.logaddexp(-np.dot(dx1, np.dot(sigma1inv, dx1))/2.0,\n",
    "                        -np.dot(dx2, np.dot(sigma2inv, dx2))/2.0)\n",
    "\n",
    "# Use a flat prior\n",
    "def logp(x):\n",
    "    return 0.0"
   ]
  },
  {
   "cell_type": "code",
   "execution_count": null,
   "metadata": {},
   "outputs": [],
   "source": [
    "ntemps = 4\n",
    "nwalkers = 10\n",
    "ndim = 2\n",
    "\n",
    "num_burnin_iterations = 100\n",
    "\n",
    "sampler=PTSampler(ntemps, nwalkers, ndim, logl, logp)\n",
    "p0 = np.random.uniform(low=-1.0, high=1.0, size=(ntemps, nwalkers, ndim))\n",
    "for p, lnprob, lnlike in sampler.sample(p0, iterations=num_burnin_iterations):\n",
    "    pass\n",
    "sampler.reset()"
   ]
  },
  {
   "cell_type": "code",
   "execution_count": null,
   "metadata": {},
   "outputs": [],
   "source": [
    "# At each iteration, this generator for PTSampler yields\n",
    "\n",
    "# p, the current position of the walkers.\n",
    "# lnprob the current posterior values for the walkers.\n",
    "# lnlike the current likelihood values for the walkers."
   ]
  },
  {
   "cell_type": "code",
   "execution_count": null,
   "metadata": {},
   "outputs": [],
   "source": [
    "num_iterations = 100\n",
    "\n",
    "for p, lnprob, lnlike in sampler.sample(p0=p, lnprob0=lnprob,\n",
    "                                           lnlike0=lnlike,\n",
    "                                           iterations=num_iterations, \n",
    "                                        thin=10):\n",
    "    pass"
   ]
  },
  {
   "cell_type": "code",
   "execution_count": null,
   "metadata": {},
   "outputs": [],
   "source": [
    "assert sampler.chain.shape == (ntemps, nwalkers, 20, ndim)"
   ]
  },
  {
   "cell_type": "code",
   "execution_count": null,
   "metadata": {},
   "outputs": [],
   "source": [
    "assert sampler.chain.shape == (ntemps, nwalkers, 1000, ndim)\n",
    "\n",
    "# Chain has shape (ntemps, nwalkers, nsteps, ndim)\n",
    "# Zero temperature mean:\n",
    "mu0 = np.mean(np.mean(sampler.chain[0,...], axis=0), axis=0)\n",
    "\n",
    "# Longest autocorrelation length (over any temperature)\n",
    "max_acl = np.max(sampler.acor)\n",
    "\n",
    "# etc"
   ]
  },
  {
   "cell_type": "code",
   "execution_count": 4,
   "metadata": {},
   "outputs": [
    {
     "name": "stdout",
     "output_type": "stream",
     "text": [
      "0.3\n"
     ]
    }
   ],
   "source": [
    "print(3/10)"
   ]
  },
  {
   "cell_type": "code",
   "execution_count": null,
   "metadata": {},
   "outputs": [],
   "source": []
  },
  {
   "cell_type": "markdown",
   "metadata": {},
   "source": [
    "## Infer point"
   ]
  },
  {
   "cell_type": "code",
   "execution_count": 3,
   "metadata": {},
   "outputs": [],
   "source": [
    "import math\n",
    "import matplotlib.pyplot as plt\n",
    "import numpy as np\n",
    "\n",
    "from model.inference import *\n",
    "from model.hapke_model import get_USGS_r_mixed_hapke_estimate\n",
    "from utils.access_data import *\n",
    "from utils.constants import *\n",
    "\n",
    "np.set_printoptions(precision=6)\n",
    "np.set_printoptions(suppress=True)"
   ]
  },
  {
   "cell_type": "code",
   "execution_count": 4,
   "metadata": {},
   "outputs": [
    {
     "name": "stdout",
     "output_type": "stream",
     "text": [
      "Finished datapoint.\n",
      "Estimated m [0.09 0.07 0.38 0.18 0.08 0.13 0.06]\n",
      "Real m    [0.  0.4 0.5 0.1 0.  0.  0. ]\n",
      "\n",
      "Estimated D [80 80 60 60 60 60 60]\n",
      "Real D    [80 80 60 60 60 60 60]\n",
      "\n",
      " unnormed Prob of estimate 5.377478432920697e+108\n",
      " unnormed Prob of real 2.8319672872277624e+166\n"
     ]
    },
    {
     "data": {
      "text/plain": [
       "(0.0, 1.0)"
      ]
     },
     "execution_count": 4,
     "metadata": {},
     "output_type": "execute_result"
    },
    {
     "data": {
      "image/png": "[encoded data removed]",
      "text/plain": [
       "<Figure size 1440x960 with 1 Axes>"
      ]
     },
     "metadata": {
      "needs_background": "light"
     },
     "output_type": "display_data"
    }
   ],
   "source": [
    "\n",
    "# ['olivine (Fo51)',\n",
    "# 'olivine (Fo80)',\n",
    "# 'augite',\n",
    "# 'labradorite',\n",
    "# 'pigeonite',\n",
    "# 'magnetite',\n",
    "# 'basaltic glass']\n",
    "m_random = np.array([0, 0.4, 0.5,0.1, 0, 0, 0])\n",
    "D_random = np.array([80, 80, 60, 60, 60, 60, 60])\n",
    "true_m = convert_arr_to_dict(m_random)\n",
    "true_D = convert_arr_to_dict(D_random)\n",
    "r_actual = get_USGS_r_mixed_hapke_estimate(m=true_m, D=true_D)\n",
    "\n",
    "np.set_printoptions(precision=2)\n",
    "est_m, est_D = infer_datapoint(iterations=1000, d=r_actual)\n",
    "\n",
    "\n",
    "print(\"Estimated m \" + str(est_m))\n",
    "print(\"Real m    \" + str(m_random))\n",
    "\n",
    "print(\"\\nEstimated D \" + str(est_D))\n",
    "print(\"Real D    \" + str(D_random))\n",
    "\n",
    "p = get_likelihood(r_actual, convert_arr_to_dict(est_m), convert_arr_to_dict(est_D))\n",
    "print(\"\\n unnormed Prob of estimate \" + str(p))\n",
    "p = get_likelihood(r_actual, true_m, true_D)\n",
    "print(\" unnormed Prob of real \" + str(p))\n",
    "\n",
    "\n",
    "wavelengths = N_WAVELENGTHS\n",
    "r_est = get_USGS_r_mixed_hapke_estimate(convert_arr_to_dict(est_m),\n",
    "                                          convert_arr_to_dict(est_D))\n",
    "fig, ax = plt.subplots(1, 1, constrained_layout=True,\n",
    "                       figsize=(FIG_WIDTH, FIG_HEIGHT), dpi=DPI)\n",
    "ax.plot(wavelengths, r_est, label = \"Estimated\")\n",
    "ax.plot(wavelengths, r_actual, label = \"Actual\")\n",
    "\n",
    "ax.set_xlabel(\"Wavelength\")\n",
    "ax.set_ylabel(\"Reflectance\")\n",
    "ax.legend()\n",
    "\n",
    "plt.ylim((0, 1))"
   ]
  },
  {
   "cell_type": "code",
   "execution_count": null,
   "metadata": {},
   "outputs": [],
   "source": []
  },
  {
   "cell_type": "code",
   "execution_count": null,
   "metadata": {},
   "outputs": [],
   "source": [
    "p = get_posterior_estimate(r_actual, m_random, D_random)\n",
    "print(\" Prob of real \" + str(p))"
   ]
  },
  {
   "cell_type": "code",
   "execution_count": null,
   "metadata": {},
   "outputs": [],
   "source": [
    "mbetter= np.array([0.  , 0.11, 0.02 ,0.07 ,0.01 ,0. ,  0.79])\n",
    "Dbetter=np.array([207., 127. ,182. ,176.  ,24. , 36. ,110.])\n",
    "\n",
    "# [0.   0.11 0.02 0.07 0.01 0.   0.79]\n",
    "# [207. 127. 182. 176.  24.  36. 110.]\n",
    "\n",
    "pa = get_posterior_estimate(r_actual, mbetter, Dbetter)\n",
    "print(\" Prob of higher prob, worse pred \" + str(pa))"
   ]
  },
  {
   "cell_type": "code",
   "execution_count": null,
   "metadata": {},
   "outputs": [],
   "source": []
  },
  {
   "cell_type": "code",
   "execution_count": null,
   "metadata": {},
   "outputs": [],
   "source": [
    "\n",
    "\n",
    "\n",
    "# Old m is better than new m so we should NOT accept the new. \n",
    "# old_m = np.array([0.18, 0.07, 0, 0, 0, 0, 0.74 ])\n",
    "# new_m = np.array([0.33, 0.04, 0, 0, 0.05, 0, 0.58])\n",
    "\n",
    "\n",
    "# old_D = np.array([60, 60, 60, 60, 60, 60, 60])\n",
    "# new_D = np.array([60, 60, 60, 60, 60, 60, 60])\n",
    "\n",
    "\n",
    "new_m = np.array([0, 0, 0, 0, 0, 0.1, 0.9 ])\n",
    "new_D =  np.array([60, 60, 60, 60, 60, 60, 60])\n",
    "\n",
    "old_m = [0.38, 0.01, 0.003, 0, 0.02, 0, 0.57]\n",
    "old_D = [300, 300, 300, 100, 100, 200, 200]\n",
    "\n",
    "\n",
    "old_m_dict = convert_arr_to_dict(old_m)\n",
    "new_m_dict = convert_arr_to_dict(new_m)\n",
    "old_D_dict = convert_arr_to_dict(old_D)\n",
    "new_D_dict = convert_arr_to_dict(new_D)\n",
    "\n",
    "ll_old = get_likelihood(r_actual, old_m_dict, old_D_dict)\n",
    "ll_new = get_likelihood(r_actual, new_m_dict, new_D_dict)\n",
    "\n",
    "ratio = ll_new / ll_old\n",
    "print(ratio)"
   ]
  },
  {
   "cell_type": "code",
   "execution_count": null,
   "metadata": {},
   "outputs": [],
   "source": []
  },
  {
   "cell_type": "code",
   "execution_count": null,
   "metadata": {},
   "outputs": [],
   "source": [
    "wavelengths = get_USGS_wavelengths(True)\n",
    "old_r_e = get_USGS_r_mixed_hapke_estimate(old_m_dict, old_D_dict)\n",
    "new_r_e = get_USGS_r_mixed_hapke_estimate(new_m_dict, new_D_dict)\n",
    "true_r = get_USGS_r_mixed_hapke_estimate(true_m, true_D)\n",
    "\n",
    "\n",
    "fig, ax = plt.subplots(1, 1, constrained_layout=True,\n",
    "                       figsize=(FIG_WIDTH, FIG_HEIGHT), dpi=DPI)\n",
    "ax.plot(wavelengths, old_r_e, label = \"Current\")\n",
    "ax.plot(wavelengths, new_r_e, label = \"New\")\n",
    "ax.plot(wavelengths, true_r, label = \"Actual\")\n",
    "\n",
    "ax.set_xlabel(\"Wavelength\")\n",
    "ax.set_ylabel(\"Reflectance\")\n",
    "ax.legend()\n",
    "\n",
    "plt.ylim((0, 1))"
   ]
  },
  {
   "cell_type": "code",
   "execution_count": null,
   "metadata": {},
   "outputs": [],
   "source": []
  }
 ],
 "metadata": {
  "kernelspec": {
   "display_name": "specenv",
   "language": "python",
   "name": "specenv"
  },
  "language_info": {
   "codemirror_mode": {
    "name": "ipython",
    "version": 3
   },
   "file_extension": ".py",
   "mimetype": "text/x-python",
   "name": "python",
   "nbconvert_exporter": "python",
   "pygments_lexer": "ipython3",
   "version": "3.8.5"
  }
 },
 "nbformat": 4,
 "nbformat_minor": 4
}
