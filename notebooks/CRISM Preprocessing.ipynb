{
 "cells": [
  {
   "cell_type": "markdown",
   "metadata": {},
   "source": [
    "Below, we pull in the CRISM data, clip the borders,  replace null values with 0, and layer L and S images. "
   ]
  },
  {
   "cell_type": "code",
   "execution_count": 1,
   "metadata": {},
   "outputs": [],
   "source": [
    "import pickle\n",
    "import pandas as pd\n",
    "import numpy as np\n",
    "import spectral.io.envi as envi\n",
    "from utils.constants import *\n",
    "from preprocessing.CRISM_preprocess_helpers import *"
   ]
  },
  {
   "cell_type": "markdown",
   "metadata": {},
   "source": [
    "Initialize file names: what CRISM file do you want to preprocess?"
   ]
  },
  {
   "cell_type": "code",
   "execution_count": 2,
   "metadata": {},
   "outputs": [],
   "source": [
    "img_dir = \"/Users/marina/mars_data/TRDR10628/processed/\"\n",
    "\n",
    "l_img_name = \"frt00010628_07_if165l_trr3\"\n",
    "\n",
    "s_img_name = \"frt00010628_07_if165s_trr3\"\n",
    "\n",
    "d_img_name = \"frt00010628_07_de165s_ddr1\"\n",
    "\n",
    "\n",
    "CUR_IMG = \"frt00010628\"\n",
    "\n",
    "CRISM_DIR = PREPROCESSED_DATA + \"CRISM/\" \n"
   ]
  },
  {
   "cell_type": "markdown",
   "metadata": {},
   "source": [
    "Init files (DDR, S, L). \n",
    "For frt00010628_07, do special case of dropping last band in L image, it is null."
   ]
  },
  {
   "cell_type": "code",
   "execution_count": 3,
   "metadata": {},
   "outputs": [
    {
     "name": "stdout",
     "output_type": "stream",
     "text": [
      "Reduce image size to row range:0-450 and col range: 25-626\n",
      "Original range, row max= 450, col max=640\n"
     ]
    }
   ],
   "source": [
    "ddr_img, s_img, l_img = get_images(img_dir, d_img_name, s_img_name, l_img_name)\n",
    "\n",
    "# Special case: Last wavelength of l I/F CRISM img has a wavelength value of null, \n",
    "# 65535, so I drop it\n",
    "\n",
    "l_img =  l_img[:,:,:-1]\n"
   ]
  },
  {
   "cell_type": "markdown",
   "metadata": {},
   "source": [
    "Layer S and L images into single image, and save as Pickle."
   ]
  },
  {
   "cell_type": "code",
   "execution_count": 5,
   "metadata": {},
   "outputs": [],
   "source": [
    "#  Layer L and S images. \n",
    "pixel_dir = img_dir\n",
    "img_save_name = \"frt00010628\"\n",
    "\n",
    "layer_CRISM(s_img, l_img, pixel_dir, img_save_name)"
   ]
  },
  {
   "cell_type": "markdown",
   "metadata": {},
   "source": [
    "### Model Adapatations\n",
    "\n",
    "We need to make sure the CRISM data is properly adjusted w.r.t. the lab spectra used. "
   ]
  },
  {
   "cell_type": "markdown",
   "metadata": {},
   "source": [
    "Reduced wavelengths: RW_CRISM and RW_USGS.\n",
    "CRISM data has a certain wavelengths, and USGS has different ones. So, we need to find the mutually compatible set. This is what reducing wavelengths is.\n",
    "\n",
    "When running the model, it will use these reduced wavelengths for the CRISM data and USGS endmembers. Saved in PREPROCESSED_DATA/CRISM"
   ]
  },
  {
   "cell_type": "code",
   "execution_count": 3,
   "metadata": {},
   "outputs": [
    {
     "name": "stdout",
     "output_type": "stream",
     "text": [
      "Replacing 3  missing/NULL mags with next available value to fill-in.\n",
      "[  0   1 239]\n"
     ]
    }
   ],
   "source": [
    "save_USGS_wavelengths()"
   ]
  },
  {
   "cell_type": "code",
   "execution_count": 4,
   "metadata": {},
   "outputs": [
    {
     "name": "stdout",
     "output_type": "stream",
     "text": [
      "CRISM reduced from 544 to 273\n",
      "USGS reduced from 480 to 273\n",
      "RMSE between normalized wavelength vectors: 0.001151306508751759\n"
     ]
    }
   ],
   "source": [
    "CRISM_reduced, USGS_reduced = record_CRISM_USGS_reduced_wavelengths()\n"
   ]
  },
  {
   "cell_type": "markdown",
   "metadata": {},
   "source": [
    "## TO DO\n",
    "need to calculate optical constants a\n",
    "and need to set up angles for CRISM data"
   ]
  },
  {
   "cell_type": "markdown",
   "metadata": {},
   "source": [
    "7. Calculate optical constants, k, for each endmember (in each wavelength) \n",
    "\n",
    "Usually we run this on the server/HPC because it takes a while (and can use many threads to infer k in different wavelengths at the same time)."
   ]
  },
  {
   "cell_type": "code",
   "execution_count": null,
   "metadata": {},
   "outputs": [],
   "source": [
    "from preprocessing.estimatek import estimate_all_USGS_k\n",
    "# True means to match CRISM wavelengths\n",
    "estimate_all_USGS_k(True)"
   ]
  },
  {
   "cell_type": "markdown",
   "metadata": {},
   "source": []
  },
  {
   "cell_type": "code",
   "execution_count": null,
   "metadata": {},
   "outputs": [],
   "source": []
  },
  {
   "cell_type": "markdown",
   "metadata": {},
   "source": [
    "Visualizations below"
   ]
  },
  {
   "cell_type": "code",
   "execution_count": null,
   "metadata": {},
   "outputs": [],
   "source": [
    "from spectral import imshow\n",
    "from utils.plotting import *\n",
    "bands = (10, 20, 50)\n",
    "imshow(data=s_img, bands=bands)\n",
    "\n",
    "imshow(data=l_img, bands=bands)\n",
    "\n",
    "with open(DATA_DIR + \"PREPROCESSED_DATA/CRISM/\" + img_save_name + '.pickle', 'rb') as handle:\n",
    "    img = pickle.load(handle)\n",
    "plot_CRISM_img(img, DATA_DIR + \"PREPROCESSED_DATA/CRISM/\" + \"frt00010628.pdf\")"
   ]
  }
 ],
 "metadata": {
  "kernelspec": {
   "display_name": "spec_env",
   "language": "python",
   "name": "spec_env"
  },
  "language_info": {
   "codemirror_mode": {
    "name": "ipython",
    "version": 3
   },
   "file_extension": ".py",
   "mimetype": "text/x-python",
   "name": "python",
   "nbconvert_exporter": "python",
   "pygments_lexer": "ipython3",
   "version": "3.9.1"
  }
 },
 "nbformat": 4,
 "nbformat_minor": 4
}
