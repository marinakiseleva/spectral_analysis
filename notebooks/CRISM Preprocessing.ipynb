{
 "cells": [
  {
   "cell_type": "markdown",
   "metadata": {},
   "source": [
    "## CRISM Image Preprocessing"
   ]
  },
  {
   "attachments": {},
   "cell_type": "markdown",
   "metadata": {},
   "source": [
    "1. Download CRISM data and preprocess in CAT ENVI\n",
    "\n",
    "\t1. Download TRDR data and checkbox that says 'Download DDR' too\n",
    "\t2. Open TRDR images as CAT images in ENVI and save Z profile info for pixel.\n",
    "\t3. For each TRDR and DDR image, do Cat > Convert Format: PDS to CAT\n",
    "\t4. TRDR Data Cleaning\n",
    "\t\ta. Volcano Scan Correction (in CAT ENVI)  for l file \n",
    "\t\t\ti.  CAT > ATP Corrections >  Division by scaled volcano observation - Empirically optimized for this observation\n",
    "\t\t\tii. Basically removes the CO2 feature at 2 microns. Only for l file because I get errors for s file saying it won't do corrections for s file \n"
   ]
  },
  {
   "cell_type": "markdown",
   "metadata": {},
   "source": [
    "2. Set file names: what CRISM file do you want to preprocess?"
   ]
  },
  {
   "cell_type": "code",
   "execution_count": 16,
   "metadata": {},
   "outputs": [],
   "source": [
    "import pickle\n",
    "import pandas as pd\n",
    "import numpy as np\n",
    "import spectral.io.envi as envi\n",
    "from utils.constants import *\n",
    "from preprocessing.CRISM_preprocess_helpers import *\n",
    "\n",
    "img_dir = \"/Users/marina/mars_data/TRDR10628/processed/\"\n",
    "\n",
    "l_img_name = \"frt00010628_07_if165l_trr3\"\n",
    "\n",
    "s_img_name = \"frt00010628_07_if165s_trr3\"\n",
    "\n",
    "d_img_name = \"frt00010628_07_de165s_ddr1\"\n",
    "\n",
    "\n",
    "CUR_IMG = \"frt00010628\"\n",
    "\n",
    "CRISM_DIR = PREPROCESSED_DATA + \"CRISM/\" \n"
   ]
  },
  {
   "cell_type": "markdown",
   "metadata": {},
   "source": [
    "4. Pull down files (DDR, S, L) and layer S and L.\n",
    "\n",
    "For frt00010628_07, do special case of dropping last band in L image, it is null. Below, we pull in the CRISM data, clip the borders,  replace null values with 0, and layer L and S images. We also save the CRISM wavelengths to a file in the PREPROCESSED_DATA/CRISM directory, CRISM_wavelengths.pickle"
   ]
  },
  {
   "cell_type": "code",
   "execution_count": 17,
   "metadata": {},
   "outputs": [
    {
     "name": "stdout",
     "output_type": "stream",
     "text": [
      "Reduce image size to row range:0-450 and col range: 25-626\n",
      "Original range, row max= 450, col max=640\n"
     ]
    }
   ],
   "source": [
    "ddr_img, s_img, l_img = get_images(img_dir, d_img_name, s_img_name, l_img_name)\n",
    "\n",
    "# Special case: Last wavelength of l I/F CRISM img has a wavelength value of null, \n",
    "# 65535, so I drop it\n",
    "\n",
    "l_img =  l_img[:,:,:-1]\n",
    "\n",
    "\n",
    "#  Layer L and S images. \n",
    "pixel_dir = img_dir\n",
    "img_save_name = \"frt00010628\"\n",
    "\n",
    "layer_CRISM(s_img, l_img, pixel_dir, img_save_name)\n",
    "\n",
    "#  Save angular image\n",
    "with open(DATA_DIR + \"PREPROCESSED_DATA/CRISM/\" + img_save_name + \"_angles.pickle\", 'wb') as f:\n",
    "    pickle.dump(ddr_img, f)"
   ]
  },
  {
   "cell_type": "markdown",
   "metadata": {},
   "source": [
    "5. Preprocess USGS\n",
    "\n",
    "Process endmembers. Remove values for which we are missing reflectances (first and last 9 values) from each endmember. Save wavelengths and reflectances as pickles."
   ]
  },
  {
   "cell_type": "code",
   "execution_count": null,
   "metadata": {},
   "outputs": [],
   "source": [
    "# For each USGS endmember the first and last 10 values are clipped because they are null.\n",
    "#  Each endmember has the same wavelengths.\n",
    "#  Each endmember's reflectance is saved in PREPROCESSED_DATA/R\n",
    "#  The USGS wavelengths are saved in PREPROCESSED_DATA/USGS_wavelengths.pickle\n",
    "import os\n",
    "from preprocessing.USGS_preprocessing_helpers import preprocess_USGS\n",
    "if not os.path.exists(PREPROCESSED_DATA + \"USGS_wavelengths.pickle\"):\n",
    "    preprocess_USGS()"
   ]
  },
  {
   "cell_type": "markdown",
   "metadata": {},
   "source": [
    "6. Reduced wavelengths: RW_CRISM and RW_USGS.\n",
    "\n",
    "CRISM data has a certain wavelengths, and USGS has different ones. So, we need to find the mutually compatible set. This is what reducing wavelengths is.\n",
    "\n",
    "When running the model, it will use these reduced wavelengths for the CRISM data and USGS endmembers. Saved in PREPROCESSED_DATA/CRISM as RW_USGS.pickle and RW_CRISM.pickle, which stands for reduced wavelengths. We also have CRISM_wavelengths.pickle there, which is the original, entire set of wavelengths for the CRISM image."
   ]
  },
  {
   "cell_type": "code",
   "execution_count": null,
   "metadata": {},
   "outputs": [],
   "source": [
    "CRISM_reduced, USGS_reduced = record_CRISM_USGS_reduced_wavelengths()"
   ]
  },
  {
   "cell_type": "markdown",
   "metadata": {},
   "source": [
    "7. Calculate the optical constant k, the imaginary index of refraction, for each endmember (in each wavelength) \n",
    "\n",
    "Recommended to run this on the server/HPC because it takes a while (and can use many threads to infer k in different wavelengths at the same time)."
   ]
  },
  {
   "cell_type": "code",
   "execution_count": null,
   "metadata": {},
   "outputs": [],
   "source": [
    "from preprocessing.estimatek import estimate_all_USGS_k\n",
    "# CRISM_match = True -> Important. Because we want to calculate k for each\n",
    "# reduced wavelength (the mutual set between USGS and CRISM)  \n",
    "estimate_all_USGS_k(CRISM_match = True)"
   ]
  },
  {
   "cell_type": "markdown",
   "metadata": {},
   "source": [
    "## IN PROGRESS\n",
    "8. Initialize Angles for CRISM"
   ]
  },
  {
   "cell_type": "code",
   "execution_count": 27,
   "metadata": {},
   "outputs": [
    {
     "name": "stdout",
     "output_type": "stream",
     "text": [
      "Solar incidence angle relative to areoid 57.241676\n",
      "Solar incidence angle relative to planetary surface 56.951622\n",
      "\n",
      "Emission angle relative to areoid 33.168503\n",
      "Emission angle relative to planetary surface 33.693363\n",
      "\n",
      "Solar phase angle 68.2467\n"
     ]
    }
   ],
   "source": [
    "pixX = 20\n",
    "pixY = 30\n",
    "pix = ddr_img[pixX,pixY]\n",
    "print(\"Solar incidence angle relative to areoid \" + str(pix[0]))\n",
    "print(\"Solar incidence angle relative to planetary surface \" + str(pix[5]))\n",
    "\n",
    "\n",
    "print(\"\\nEmission angle relative to areoid \" + str(pix[1]))\n",
    "print(\"Emission angle relative to planetary surface \" + str(pix[6]))\n",
    "\n",
    "\n",
    "print(\"\\nSolar phase angle \" + str(pix[2])) "
   ]
  },
  {
   "cell_type": "markdown",
   "metadata": {},
   "source": [
    "Visualizations below"
   ]
  },
  {
   "cell_type": "code",
   "execution_count": null,
   "metadata": {},
   "outputs": [],
   "source": [
    "from spectral import imshow\n",
    "from utils.plotting import *\n",
    "bands = (10, 20, 50)\n",
    "imshow(data=s_img, bands=bands)\n",
    "\n",
    "imshow(data=l_img, bands=bands)\n",
    "\n",
    "with open(DATA_DIR + \"PREPROCESSED_DATA/CRISM/\" + img_save_name + '.pickle', 'rb') as handle:\n",
    "    img = pickle.load(handle)\n",
    "plot_CRISM_img(img, DATA_DIR + \"PREPROCESSED_DATA/CRISM/\" + \"frt00010628.pdf\")"
   ]
  }
 ],
 "metadata": {
  "kernelspec": {
   "display_name": "spec_env",
   "language": "python",
   "name": "spec_env"
  },
  "language_info": {
   "codemirror_mode": {
    "name": "ipython",
    "version": 3
   },
   "file_extension": ".py",
   "mimetype": "text/x-python",
   "name": "python",
   "nbconvert_exporter": "python",
   "pygments_lexer": "ipython3",
   "version": "3.9.1"
  }
 },
 "nbformat": 4,
 "nbformat_minor": 4
}
