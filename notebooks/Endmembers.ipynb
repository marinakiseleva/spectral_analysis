{
 "cells": [
  {
   "cell_type": "markdown",
   "metadata": {},
   "source": [
    "# Plot all endmembers"
   ]
  },
  {
   "cell_type": "code",
   "execution_count": null,
   "metadata": {},
   "outputs": [],
   "source": [
    "from utils.plotting import *\n",
    "plot_endmembers()\n"
   ]
  },
  {
   "cell_type": "markdown",
   "metadata": {},
   "source": [
    "## TO DO:\n",
    "Create new file for preprocessing RELAB data, and just add a call to another notebook where I show all the M3 preprocessing."
   ]
  },
  {
   "cell_type": "markdown",
   "metadata": {},
   "source": [
    "## Pull down all RELAB data"
   ]
  },
  {
   "cell_type": "code",
   "execution_count": null,
   "metadata": {},
   "outputs": [],
   "source": [
    "from utils.access_data import *\n",
    "from utils.constants import *\n",
    "\n",
    "import pandas as pd\n",
    "pd.set_option('display.max_rows', 1000)\n",
    "pd.set_option('display.max_columns', None)\n",
    "file_name = CATALOGUE_PATH + \"Minerals.xls\"\n",
    "minerals = pd.read_excel(file_name)\n",
    "\n",
    "relab_db = get_data()"
   ]
  },
  {
   "cell_type": "code",
   "execution_count": null,
   "metadata": {},
   "outputs": [],
   "source": [
    "# relab_db[relab_db['SampleID'] == \"LS-CMP-009\"]\n",
    "relab_db[relab_db['Text'].str.contains('ilmenite') == True]"
   ]
  },
  {
   "cell_type": "markdown",
   "metadata": {},
   "source": [
    "Find Sample ID for specific endmember\n"
   ]
  },
  {
   "cell_type": "code",
   "execution_count": null,
   "metadata": {},
   "outputs": [],
   "source": [
    "target_endmember = \"Augite\"\n",
    "t_df = relab_db[relab_db['Text'].str.contains(target_endmember) == True]"
   ]
  },
  {
   "cell_type": "code",
   "execution_count": null,
   "metadata": {},
   "outputs": [],
   "source": [
    "specid='C4LS09'\n",
    "import matplotlib.pyplot as plt\n",
    "fig, ax = plt.subplots(figsize=(4, 4), dpi=200)\n",
    "cur_data= get_reflectance_data(spectrum_id='C1LU07', spectra_db=relab_db, CRISM_match=False)\n",
    "ax.plot(cur_data['Wavelength(micron)'],\n",
    "            cur_data['Reflectance'],\n",
    "            color=\"blue\",\n",
    "            label=specid)\n"
   ]
  },
  {
   "cell_type": "code",
   "execution_count": null,
   "metadata": {},
   "outputs": [],
   "source": [
    "import matplotlib.pyplot as plt\n",
    "fig, ax = plt.subplots(figsize=(4, 4), dpi=200)\n",
    "l = a['SpectrumID'].tolist()\n",
    "colors = [LIGHT_GREEN, DARK_GREEN, LIGHT_BLUE, PINK, DARK_BLUE, RED, \"black\", \"blue\", \"yellow\"]\n",
    "for index, specid in enumerate(l):\n",
    "    print(specid)\n",
    "    cur_data= get_reflectance_data(spectrum_id=specid, spectra_db=relab_db, CRISM_match=False)\n",
    "    ax.plot(cur_data['Wavelength(micron)'],\n",
    "            cur_data['Reflectance'],\n",
    "            color=colors[index],\n",
    "            label=specid)\n",
    "ax.set_ylabel(\"Reflectance\")\n",
    "ax.set_xlabel(\"Wavelength\")\n",
    "ax.set_ylim((0, 0.7))\n",
    "ax.set_xlim((min(cur_data['Wavelength(micron)']), 2))\n",
    "plt.legend()\n",
    "plt.show()\n",
    "# fig.savefig(MODULE_DIR + \"/output/figures/endmembers.pdf\")"
   ]
  },
  {
   "cell_type": "code",
   "execution_count": null,
   "metadata": {},
   "outputs": [],
   "source": [
    "USGS_data = get_USGS_data(\"olivine (Fo80)\", CRISM_match=False)"
   ]
  },
  {
   "cell_type": "code",
   "execution_count": null,
   "metadata": {},
   "outputs": [],
   "source": [
    "endmember = \"olivine (Fo51)\"\n",
    "file_name = USGS_DATA + endmember + \".csv\"\n",
    "for r in [\"(\", \")\", \" \"]:\n",
    "    file_name = file_name.replace(r, \"\").lower()\n",
    "data = pd.read_csv(file_name)"
   ]
  },
  {
   "cell_type": "code",
   "execution_count": null,
   "metadata": {},
   "outputs": [],
   "source": [
    "data.loc[data['reflectance'] < 0, 'reflectance'] = 0"
   ]
  },
  {
   "cell_type": "code",
   "execution_count": null,
   "metadata": {},
   "outputs": [],
   "source": [
    "for endmember in USGS_PURE_ENDMEMBERS:\n",
    "    if endmember != 'basaltic glass':\n",
    "        USGS_data = get_USGS_data(endmember, CRISM_match=False)\n",
    "        if USGS_data['wavelength'].tolist() != oliv_fo80_wavelengths:\n"
   ]
  },
  {
   "cell_type": "code",
   "execution_count": null,
   "metadata": {},
   "outputs": [],
   "source": []
  },
  {
   "cell_type": "code",
   "execution_count": null,
   "metadata": {},
   "outputs": [],
   "source": []
  },
  {
   "cell_type": "markdown",
   "metadata": {},
   "source": [
    "#### Verify angles of RELAB data"
   ]
  },
  {
   "cell_type": "markdown",
   "metadata": {},
   "source": [
    "From RELAB documentation here http://www.planetary.brown.edu/relabdata/catalogues/Catalogue_README.html\n",
    "\n",
    "SourceAngle = Angle of illumination in degrees\n",
    "\n",
    "DetectAngle = Angle of emergence or detection in degrees"
   ]
  },
  {
   "cell_type": "code",
   "execution_count": null,
   "metadata": {},
   "outputs": [],
   "source": [
    "from utils.access_data import *\n",
    "spectra_db = get_data()"
   ]
  },
  {
   "cell_type": "code",
   "execution_count": null,
   "metadata": {},
   "outputs": [],
   "source": [
    "# SourceAngle\n",
    "# DetectAngle \n",
    "OLIVINE_SID = \"C1PO17\" \n",
    "\n",
    "source_angle = spectra_db[spectra_db['SpectrumID']  == OLIVINE_SID]['SourceAngle'].values[0]\n",
    "phase_angle = spectra_db[spectra_db['SpectrumID']  == OLIVINE_SID]['PhaseAngle'].values[0]\n",
    "emission_angle = spectra_db[spectra_db['SpectrumID']  == OLIVINE_SID]['DetectAngle'].values[0]\n",
    "print(\"Incidence angle: \" + str(source_angle) + \", phase angle: \" + str(phase_angle)\n",
    "      + \", emission angle: \" + str(emission_angle))"
   ]
  },
  {
   "cell_type": "code",
   "execution_count": null,
   "metadata": {},
   "outputs": [],
   "source": []
  }
 ],
 "metadata": {
  "kernelspec": {
   "display_name": "spec_env",
   "language": "python",
   "name": "spec_env"
  },
  "language_info": {
   "codemirror_mode": {
    "name": "ipython",
    "version": 3
   },
   "file_extension": ".py",
   "mimetype": "text/x-python",
   "name": "python",
   "nbconvert_exporter": "python",
   "pygments_lexer": "ipython3",
   "version": "3.9.1"
  }
 },
 "nbformat": 4,
 "nbformat_minor": 4
}
