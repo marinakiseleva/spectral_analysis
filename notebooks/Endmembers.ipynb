{
 "cells": [
  {
   "cell_type": "markdown",
   "metadata": {},
   "source": [
    "## Pull down USGS data"
   ]
  },
  {
   "cell_type": "code",
   "execution_count": null,
   "metadata": {},
   "outputs": [],
   "source": [
    "from utils.constants import *\n",
    "import pandas as pd\n",
    "import matplotlib.pyplot as plt "
   ]
  },
  {
   "cell_type": "code",
   "execution_count": null,
   "metadata": {},
   "outputs": [],
   "source": [
    "def get_endmember_data(cur_endmember):\n",
    "    ENDMEMBER_PATH = USGS_DATA + \"endmembers/\" + cur_endmember + \"/\"\n",
    "    df = pd.read_csv(ENDMEMBER_PATH + \"reflectance.txt\", delimiter = \"\\t\", names=['reflectance'],skiprows=1)\n",
    "    df_W = pd.read_csv(ENDMEMBER_PATH + \"wavelengths.txt\", delimiter = \"\\t\", names=['wavelength'],skiprows=1)\n",
    "    wavelengths = df_W['wavelength'].values\n",
    "    mags = df['reflectance'].values\n",
    "\n",
    "    return wavelengths, mags"
   ]
  },
  {
   "cell_type": "code",
   "execution_count": null,
   "metadata": {},
   "outputs": [],
   "source": [
    "import numpy as np\n",
    "missing_indices = np.where(mags  < 0)[0]\n",
    "# replace each missing index with next non-missing index. \n",
    "if len(missing_indices) > 0:\n",
    "    print(\"Replacing \" + str(len(missing_indices))+ \"  missing/NULL mags with next available value to fill-in.\")\n",
    "    print(missing_indices)\n",
    "for missing_index in missing_indices:\n",
    "    next_index = missing_index+1\n",
    "    while next_index is not None: \n",
    "        if next_index >= len(mags):\n",
    "            mags[missing_index] = 0\n",
    "            break\n",
    "        if mags[next_index] > 0:\n",
    "            mags[missing_index] = mags[next_index]\n",
    "            next_index = None\n",
    "            break\n",
    "        else:\n",
    "            next_index = next_index + 1"
   ]
  },
  {
   "cell_type": "code",
   "execution_count": null,
   "metadata": {},
   "outputs": [],
   "source": [
    "\n",
    "fig, ax = plt.subplots(figsize=(4, 4), dpi=200) \n",
    "ax.plot(wavelengths, mags,\n",
    "            color=DARK_GREEN,\n",
    "            label=cur_endmember)\n",
    "ax.set_ylabel(\"Reflectance\")\n",
    "ax.set_xlabel(\"Wavelength\")\n",
    "ax.set_ylim((0, 1))\n",
    "ax.set_xlim((min(wavelengths), max(wavelengths)))\n",
    "plt.legend()\n",
    "plt.show()"
   ]
  },
  {
   "cell_type": "markdown",
   "metadata": {},
   "source": [
    "## Preprocess endmembers\n",
    "Process endmembers. Remove values for which we are missing reflectances (first and last 9 values) from each endmember. Save wavelengths and reflectances as pickle"
   ]
  },
  {
   "cell_type": "code",
   "execution_count": null,
   "metadata": {},
   "outputs": [],
   "source": [
    "import pickle \n",
    "endmembers = [\"diopside\", \"augite\", \"pigeonite\", \"hypersthene\", \n",
    "              \"enstatite\", \"andesine\", \"labradorite\", \"olivineFo51\", \"magnetite\"]\n",
    "\n",
    "for endmember in endmembers:\n",
    "    W, M = get_endmember_data(endmember)\n",
    "    # Save endmember data as pickle, clipping first 9 and last 9 reflectances.\n",
    "    W=W[10:-9]\n",
    "    M=M[10:-9] \n",
    "    with open(R_DIR  + endmember + \"_reflectance.pickle\", 'wb') as f:\n",
    "        pickle.dump(M, f)\n",
    "\n",
    "W, M = get_endmember_data(\"diopside\")\n",
    "W=W[10:-9]\n",
    "with open(PREPROCESSED_DATA + \"wavelengths.pickle\", 'wb') as f:\n",
    "    pickle.dump(W, f)\n",
    "# WS=[]\n",
    "# for i, v in enumerate(WS):\n",
    "#     if i!=len(WS)-1:\n",
    "#         if (WS[i] == WS[i+1]).all():\n",
    "#             print(str(i) + \" equals next\")\n",
    "# print(\"All wavelengths equal each other.\")"
   ]
  },
  {
   "cell_type": "code",
   "execution_count": null,
   "metadata": {},
   "outputs": [],
   "source": [
    "import pickle\n",
    "from utils.constants import * \n",
    "with open(R_DIR + \"diopside_reflectance.pickle\", 'rb') as handle:\n",
    "    a = pickle.load(handle)\n"
   ]
  },
  {
   "cell_type": "code",
   "execution_count": null,
   "metadata": {},
   "outputs": [],
   "source": []
  },
  {
   "cell_type": "markdown",
   "metadata": {},
   "source": [
    "Find optical constants"
   ]
  },
  {
   "cell_type": "code",
   "execution_count": null,
   "metadata": {},
   "outputs": [],
   "source": [
    "from preprocessing.estimatek import *\n",
    "k, error = get_best_USGS_k(endmember='labradorite')"
   ]
  },
  {
   "cell_type": "code",
   "execution_count": null,
   "metadata": {},
   "outputs": [],
   "source": []
  },
  {
   "cell_type": "markdown",
   "metadata": {},
   "source": [
    "## Pull down all RELAB data"
   ]
  },
  {
   "cell_type": "code",
   "execution_count": null,
   "metadata": {},
   "outputs": [],
   "source": [
    "from utils.access_data import *\n",
    "from utils.constants import *\n",
    "\n",
    "import pandas as pd\n",
    "pd.set_option('display.max_rows', 1000)\n",
    "pd.set_option('display.max_columns', None)\n",
    "file_name = CATALOGUE_PATH + \"Minerals.xls\"\n",
    "minerals = pd.read_excel(file_name)\n",
    "\n",
    "relab_db = get_data()"
   ]
  },
  {
   "cell_type": "markdown",
   "metadata": {},
   "source": [
    "Find Sample ID for specific endmember\n"
   ]
  },
  {
   "cell_type": "code",
   "execution_count": null,
   "metadata": {},
   "outputs": [],
   "source": [
    "target_endmember = \"Augite\"\n",
    "t_df = relab_db[relab_db['Text'].str.contains(target_endmember) == True]"
   ]
  },
  {
   "cell_type": "code",
   "execution_count": null,
   "metadata": {},
   "outputs": [],
   "source": [
    "specid='C4LS09'\n",
    "import matplotlib.pyplot as plt\n",
    "fig, ax = plt.subplots(figsize=(4, 4), dpi=200)\n",
    "cur_data= get_reflectance_data(spectrum_id='C1LU07', spectra_db=relab_db, CRISM_match=False)\n",
    "ax.plot(cur_data['Wavelength(micron)'],\n",
    "            cur_data['Reflectance'],\n",
    "            color=\"blue\",\n",
    "            label=specid)\n"
   ]
  },
  {
   "cell_type": "code",
   "execution_count": null,
   "metadata": {},
   "outputs": [],
   "source": [
    "import matplotlib.pyplot as plt\n",
    "fig, ax = plt.subplots(figsize=(4, 4), dpi=200)\n",
    "l = a['SpectrumID'].tolist()\n",
    "colors = [LIGHT_GREEN, DARK_GREEN, LIGHT_BLUE, PINK, DARK_BLUE, RED, \"black\", \"blue\", \"yellow\"]\n",
    "for index, specid in enumerate(l):\n",
    "    print(specid)\n",
    "    cur_data= get_reflectance_data(spectrum_id=specid, spectra_db=relab_db, CRISM_match=False)\n",
    "    ax.plot(cur_data['Wavelength(micron)'],\n",
    "            cur_data['Reflectance'],\n",
    "            color=colors[index],\n",
    "            label=specid)\n",
    "ax.set_ylabel(\"Reflectance\")\n",
    "ax.set_xlabel(\"Wavelength\")\n",
    "ax.set_ylim((0, 0.7))\n",
    "ax.set_xlim((min(cur_data['Wavelength(micron)']), 2))\n",
    "plt.legend()\n",
    "plt.show()\n",
    "# fig.savefig(MODULE_DIR + \"/output/figures/endmembers.pdf\")"
   ]
  },
  {
   "cell_type": "code",
   "execution_count": null,
   "metadata": {},
   "outputs": [],
   "source": [
    "USGS_data = get_USGS_data(\"olivine (Fo80)\", CRISM_match=False)"
   ]
  },
  {
   "cell_type": "code",
   "execution_count": null,
   "metadata": {},
   "outputs": [],
   "source": [
    "endmember = \"olivine (Fo51)\"\n",
    "file_name = USGS_DATA + endmember + \".csv\"\n",
    "for r in [\"(\", \")\", \" \"]:\n",
    "    file_name = file_name.replace(r, \"\").lower()\n",
    "data = pd.read_csv(file_name)"
   ]
  },
  {
   "cell_type": "code",
   "execution_count": null,
   "metadata": {},
   "outputs": [],
   "source": [
    "data.loc[data['reflectance'] < 0, 'reflectance'] = 0"
   ]
  },
  {
   "cell_type": "code",
   "execution_count": null,
   "metadata": {},
   "outputs": [],
   "source": [
    "for endmember in USGS_PURE_ENDMEMBERS:\n",
    "    if endmember != 'basaltic glass':\n",
    "        USGS_data = get_USGS_data(endmember, CRISM_match=False)\n",
    "        if USGS_data['wavelength'].tolist() != oliv_fo80_wavelengths:\n"
   ]
  },
  {
   "cell_type": "code",
   "execution_count": null,
   "metadata": {},
   "outputs": [],
   "source": [
    "from utils.plotting import *\n",
    "plot_endmembers()"
   ]
  },
  {
   "cell_type": "code",
   "execution_count": null,
   "metadata": {},
   "outputs": [],
   "source": [
    "from utils.plotting import *\n",
    "plot_endmembers(CRISM_match=True)"
   ]
  },
  {
   "cell_type": "code",
   "execution_count": null,
   "metadata": {},
   "outputs": [],
   "source": []
  },
  {
   "cell_type": "markdown",
   "metadata": {},
   "source": [
    "#### Verify angles of RELAB data"
   ]
  },
  {
   "cell_type": "markdown",
   "metadata": {},
   "source": [
    "From RELAB documentation here http://www.planetary.brown.edu/relabdata/catalogues/Catalogue_README.html\n",
    "\n",
    "SourceAngle = Angle of illumination in degrees\n",
    "\n",
    "DetectAngle = Angle of emergence or detection in degrees"
   ]
  },
  {
   "cell_type": "code",
   "execution_count": null,
   "metadata": {},
   "outputs": [],
   "source": [
    "from utils.access_data import *\n",
    "spectra_db = get_data()"
   ]
  },
  {
   "cell_type": "code",
   "execution_count": null,
   "metadata": {},
   "outputs": [],
   "source": [
    "# SourceAngle\n",
    "# DetectAngle \n",
    "OLIVINE_SID = \"C1PO17\" \n",
    "\n",
    "source_angle = spectra_db[spectra_db['SpectrumID']  == OLIVINE_SID]['SourceAngle'].values[0]\n",
    "phase_angle = spectra_db[spectra_db['SpectrumID']  == OLIVINE_SID]['PhaseAngle'].values[0]\n",
    "emission_angle = spectra_db[spectra_db['SpectrumID']  == OLIVINE_SID]['DetectAngle'].values[0]\n",
    "print(\"Incidence angle: \" + str(source_angle) + \", phase angle: \" + str(phase_angle)\n",
    "      + \", emission angle: \" + str(emission_angle))"
   ]
  },
  {
   "cell_type": "code",
   "execution_count": null,
   "metadata": {},
   "outputs": [],
   "source": []
  }
 ],
 "metadata": {
  "kernelspec": {
   "display_name": "Spec analysis kernel",
   "language": "python",
   "name": "spec_env_kernel"
  },
  "language_info": {
   "codemirror_mode": {
    "name": "ipython",
    "version": 3
   },
   "file_extension": ".py",
   "mimetype": "text/x-python",
   "name": "python",
   "nbconvert_exporter": "python",
   "pygments_lexer": "ipython3",
   "version": "3.9.5"
  }
 },
 "nbformat": 4,
 "nbformat_minor": 4
}
