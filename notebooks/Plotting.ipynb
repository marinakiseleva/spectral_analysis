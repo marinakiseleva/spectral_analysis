{
 "cells": [
  {
   "cell_type": "markdown",
   "metadata": {},
   "source": [
    "## Combine model outputs"
   ]
  },
  {
   "cell_type": "code",
   "execution_count": null,
   "metadata": {},
   "outputs": [],
   "source": [
    "# Combine m plots\n",
    "import matplotlib.pyplot as plt\n",
    "import matplotlib as mpl\n",
    "\n",
    "dirName = '../output/TEST_SYN_COMP/'\n",
    "\n",
    "# fig, ax = plt.subplots(4, 3, figsize=(8, 8), dpi=400)\n",
    "\n",
    "fig = plt.figure()\n",
    "ax = fig_zoom.add_subplot(111)\n",
    "ax.plot(range(4), range(3), 'b')\n",
    "\n",
    "# create a PdfPages object\n",
    "pdf = PdfPages(dirName+\"test.pdf\")\n",
    "\n",
    "# save plot using savefig() method of pdf object\n",
    "pdf.savefig(fig)\n",
    "\n",
    "fig1 = plt.figure()\n",
    "ax = fig_zoom.add_subplot(111)\n",
    "ax.plot(range(10), range(2, 12), 'r')\n",
    "\n",
    "pdf.savefig(fig1)\n",
    "\n",
    "# remember to close the object to ensure writing multiple plots\n",
    "pdf.close()\n",
    "\n",
    "\n",
    "\n",
    "# cmap = mpl.cm.viridis\n",
    "# norm = mpl.colors.Normalize(vmin=0, vmax=1)\n",
    "\n",
    "# cb1 = mpl.colorbar.ColorbarBase(ax1, cmap=cmap,\n",
    "#                                 norm=norm,\n",
    "#                                 orientation='horizontal',\n",
    "#                                )\n",
    "# cb1.ax.tick_params(labelsize=16)\n",
    "\n",
    "# cb1.set_label('Mineral Concentration', fontsize=16)\n",
    "# plt.savefig(\"../output/colorbar_mineral.pdf\")"
   ]
  },
  {
   "cell_type": "code",
   "execution_count": null,
   "metadata": {},
   "outputs": [],
   "source": []
  },
  {
   "cell_type": "code",
   "execution_count": null,
   "metadata": {},
   "outputs": [],
   "source": []
  },
  {
   "cell_type": "markdown",
   "metadata": {},
   "source": [
    "Data is downloaded from \n",
    "https://archive.usgs.gov/archive/sites/speclab.cr.usgs.gov/spectral.lib06/ds231/datatable.html\n",
    "\n",
    "W1R1Bb ASCII data for each endmember."
   ]
  },
  {
   "cell_type": "code",
   "execution_count": null,
   "metadata": {},
   "outputs": [],
   "source": [
    "from utils.plotting import *\n",
    "plot_endmembers()\n",
    "# Endmembers used in CRISM analysis (USGS + basaltic glass from RELAB)"
   ]
  },
  {
   "cell_type": "markdown",
   "metadata": {},
   "source": [
    "## Examining CRISM data manually\n",
    "\n",
    "Download all the data on the PDS site, open the .hdr TRDR image in CAT ENVI, convert PDS to CAT, save, and then open here.  \n",
    "\n",
    "Use library called Spectral Python (SPy) http://www.spectralpython.net/user_guide.html to access the data and manipulate it in Numpy. "
   ]
  },
  {
   "cell_type": "code",
   "execution_count": 2,
   "metadata": {},
   "outputs": [],
   "source": [
    "# Select data source & pull down data\n",
    "\n",
    "import numpy as np\n",
    "from spectral import imshow\n",
    "import spectral.io.envi as envi\n",
    "from utils.constants import * \n",
    "%matplotlib inline\n"
   ]
  },
  {
   "cell_type": "code",
   "execution_count": null,
   "metadata": {},
   "outputs": [],
   "source": [
    "# For filtering GALE_CRATER/cartorder/cartorder/frt0002037a_07_if165l_trr3_CAT\n",
    "# Use only these pixels:\n",
    "CRISM_DATA_PATH = DATA_DIR + 'GALE_CRATER/cartorder/cartorder/'\n",
    "CRISM_IMG = CRISM_DATA_PATH + 'frt0002037a_07_if165l_trr3_CAT.img'\n",
    "spy_image = envi.open(file=CRISM_IMG + '.hdr')\n",
    "\n",
    "print(spy_image.shape)\n",
    "VALID_IMAGE = spy_image[2:449,31:631,:]\n",
    "bands = (233, 71, 18)\n",
    "view = imshow(data=VALID_IMAGE, bands=bands)"
   ]
  },
  {
   "cell_type": "markdown",
   "metadata": {},
   "source": [
    "## Load Image"
   ]
  },
  {
   "cell_type": "code",
   "execution_count": 2,
   "metadata": {},
   "outputs": [],
   "source": [
    "import numpy as np\n",
    "from spectral import imshow\n",
    "import spectral.io.envi as envi\n",
    "from utils.constants import * \n",
    "%matplotlib inline\n"
   ]
  },
  {
   "cell_type": "code",
   "execution_count": null,
   "metadata": {},
   "outputs": [],
   "source": [
    "IMG_DIR = 'cartOrder/cartorder/'\n",
    "IMG_NAME = 'frt0002037a_07_if165'\n",
    "with open(DATA_DIR + 'GALE_CRATER/' + IMG_DIR  + 'layered_img.pickle', 'rb') as handle:\n",
    "    loaded_img = pickle.load(handle)\n",
    "\n",
    "coords = [100, 200, 100, 200]\n",
    "from utils.plotting import *\n",
    "plot_zoomed_sectioned_CRISM(loaded_img, coords)\n",
    "\n"
   ]
  },
  {
   "cell_type": "code",
   "execution_count": 2,
   "metadata": {},
   "outputs": [
    {
     "data": {
      "image/png": "[encoded data removed]",
      "text/plain": [
       "<Figure size 1600x200 with 1 Axes>"
      ]
     },
     "metadata": {
      "needs_background": "light"
     },
     "output_type": "display_data"
    }
   ],
   "source": [
    "import matplotlib.pyplot as plt\n",
    "import matplotlib as mpl\n",
    "\n",
    "fig = plt.figure(figsize=(8, 1), dpi=200)\n",
    "ax1 = fig.add_axes([0.05, 0.80, 0.9, 0.15])\n",
    "\n",
    "cmap = mpl.cm.viridis\n",
    "norm = mpl.colors.Normalize(vmin=0, vmax=1)\n",
    "\n",
    "cb1 = mpl.colorbar.ColorbarBase(ax1, cmap=cmap,\n",
    "                                norm=norm,\n",
    "                                orientation='horizontal',\n",
    "                               )\n",
    "cb1.ax.tick_params(labelsize=16)\n",
    "\n",
    "cb1.set_label('Abundance (wt%)', fontsize=16)\n",
    "plt.savefig(\"../output/colorbar_mineral.pdf\")"
   ]
  },
  {
   "cell_type": "code",
   "execution_count": 6,
   "metadata": {},
   "outputs": [
    {
     "data": {
      "image/png": "[encoded data removed]",
      "text/plain": [
       "<Figure size 1600x200 with 1 Axes>"
      ]
     },
     "metadata": {
      "needs_background": "light"
     },
     "output_type": "display_data"
    }
   ],
   "source": [
    "import matplotlib.pyplot as plt\n",
    "import matplotlib as mpl\n",
    "\n",
    "from utils.constants import *\n",
    "\n",
    "fig = plt.figure(figsize=(8, 1), dpi=200)\n",
    "ax1 = fig.add_axes([0.05, 0.80, 0.9, 0.15])\n",
    "\n",
    "cmap = mpl.cm.viridis\n",
    "norm = mpl.colors.Normalize(vmin=GRAIN_SIZE_MIN, vmax=GRAIN_SIZE_MAX)\n",
    "\n",
    "cb1 = mpl.colorbar.ColorbarBase(ax1, cmap=cmap,\n",
    "                                norm=norm,\n",
    "                                orientation='horizontal',\n",
    "                               )\n",
    "cb1.ax.tick_params(labelsize=16)\n",
    "\n",
    "cb1.set_label('Grain Size (μm)', fontsize=16)\n",
    "plt.savefig(\"../output/colorbar_grainsize.pdf\")"
   ]
  },
  {
   "cell_type": "markdown",
   "metadata": {},
   "source": [
    "## Save section of image"
   ]
  },
  {
   "cell_type": "code",
   "execution_count": null,
   "metadata": {},
   "outputs": [],
   "source": [
    "# Save section of image\n",
    "with open(DATA_DIR + 'GALE_CRATER/' + IMG_DIR  + 'layered_img.pickle', 'rb') as handle:\n",
    "    loaded_img = pickle.load(handle)\n",
    "    \n",
    "view = imshow(loaded_img[100:150,100:150,:], \n",
    "              bands= (120, 71, 18), \n",
    "              title=\"Section \" + IMG_NAME)\n",
    "with open(DATA_DIR + 'GALE_CRATER/' + IMG_DIR + 'layered_img_sec_100_150.pickle', 'wb') as f:\n",
    "    pickle.dump(loaded_img[100:150,100:150,:], f)\n",
    "    \n",
    "\n",
    "    "
   ]
  }
 ],
 "metadata": {
  "kernelspec": {
   "display_name": "spec_368",
   "language": "python",
   "name": "spec_368"
  },
  "language_info": {
   "codemirror_mode": {
    "name": "ipython",
    "version": 3
   },
   "file_extension": ".py",
   "mimetype": "text/x-python",
   "name": "python",
   "nbconvert_exporter": "python",
   "pygments_lexer": "ipython3",
   "version": "3.6.8"
  }
 },
 "nbformat": 4,
 "nbformat_minor": 4
}
